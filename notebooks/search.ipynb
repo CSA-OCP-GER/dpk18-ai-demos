{
  "cells": [
    {
      "metadata": {},
      "cell_type": "markdown",
      "source": "# Cognitive Services Search APIs"
    },
    {
      "metadata": {},
      "cell_type": "markdown",
      "source": "## Bing News Search\n\nBing News Search API provides an experience similar to Bing News, by returning a list of news articles that Bing determines are relevant to a user's query.\n\nFurther search options see: https://docs.microsoft.com/en-us/rest/api/cognitiveservices/bing-news-api-v7-reference\n\n**For this code to run, you need create a valid subscription key.\nIf you want to create a test key for free, have a look [here](https://azure.microsoft.com/en-us/try/cognitive-services/my-apis/).**"
    },
    {
      "metadata": {
        "trusted": true
      },
      "cell_type": "code",
      "source": "import requests\nimport json \n\nsubscription_key = \"\" # PASTE BING IMAGE SEARCH KEY HERE\nsearch_url = \"https://api.cognitive.microsoft.com/bing/v7.0/news/search\"\n\nsearch_term = \"Microsoft\"\n\nheaders = {\"Ocp-Apim-Subscription-Key\" : subscription_key}\nparams  = {\"q\": search_term, \"textDecorations\": True, \"textFormat\": \"HTML\"}\nresponse = requests.get(search_url, headers=headers, params=params)\nresponse.raise_for_status()\nsearch_results = response.json()\n\nprint(json.dumps(search_results, indent=2))",
      "execution_count": null,
      "outputs": []
    },
    {
      "metadata": {},
      "cell_type": "markdown",
      "source": "## Bing Video Search\n\nBing Video Search API provides an experience similar to Bing Videos, by returning videos that Bing determines are relevant to a query."
    },
    {
      "metadata": {
        "trusted": true
      },
      "cell_type": "code",
      "source": "import requests\nimport json \n\nsubscription_key = \"\" # PASTE BING SEARCH KEY HERE\nsearch_url = \"https://api.cognitive.microsoft.com/bing/v7.0/videos/search\"\n\nsearch_term = \"kittens\"\n\nheaders = {\"Ocp-Apim-Subscription-Key\" : subscription_key}\nparams  = {\"q\": search_term, \"count\": 5, \"pricing\": \"free\", \"videoLength\":\"short\"}\nresponse = requests.get(search_url, headers=headers, params=params)\nresponse.raise_for_status()\nsearch_results = response.json()\n\nprint(json.dumps(search_results, indent=2))",
      "execution_count": null,
      "outputs": []
    },
    {
      "metadata": {},
      "cell_type": "markdown",
      "source": "## Bing Web Search\n\nBing Web Search API provides an experience similar to Bing by returning search results that Bing determines are relevant to a user's query. The results include Web pages and may also include images, videos, and more."
    },
    {
      "metadata": {
        "trusted": true
      },
      "cell_type": "code",
      "source": "import requests\nimport json \n\nsubscription_key = \"\" # PASTE BING SEARCH KEY HERE\nsearch_url = \"https://api.cognitive.microsoft.com/bing/v7.0/search\"\n\nsearch_term = \"Azure Cognitive Services\"\n\nheaders = {\"Ocp-Apim-Subscription-Key\" : subscription_key}\nparams  = {\"q\": search_term, \"textDecorations\":True, \"textFormat\":\"HTML\"}\nresponse = requests.get(search_url, headers=headers, params=params)\nresponse.raise_for_status()\nsearch_results = response.json()\n\nprint(json.dumps(search_results, indent=2))",
      "execution_count": null,
      "outputs": []
    },
    {
      "metadata": {},
      "cell_type": "markdown",
      "source": "## Bing Autosuggest\n\nBing Autosuggest API lets you send a partial search query term to Bing and get back a list of suggested queries that other users have searched on. For example, as the user enters each character of their search term, you'd call this API and populate the search box's drop-down list with the suggested query strings."
    },
    {
      "metadata": {
        "trusted": true
      },
      "cell_type": "code",
      "source": "import requests\nimport json \n\nsubscription_key = \"\" # PASTE BING AUTOSUGGEST KEY HERE\nsearch_url = \"https://api.cognitive.microsoft.com/bing/v7.0/suggestions\"\n\nsearch_term = \"sail\"\n\nheaders = {\"Ocp-Apim-Subscription-Key\" : subscription_key}\nparams  = {\"q\": search_term}\nresponse = requests.get(search_url, headers=headers, params=params)\nresponse.raise_for_status()\nsearch_results = response.json()\n\nprint(json.dumps(search_results, indent=2))",
      "execution_count": null,
      "outputs": []
    },
    {
      "metadata": {},
      "cell_type": "markdown",
      "source": "## Bing Custom Search\n\nBing Custom Search allows you to create tailored search experiences for topics that you care about. For example, if you own a bicycle website that provides a search experience, you can specify the domains, subsites, and webpages that Bing searches. \n\nCustom Search is a seperate service from the regular Bing Search API.\n\n1. First create an API key for Bing Custom Search in Azure\n1. Then create a new custom configuration in https://www.customsearch.ai/"
    },
    {
      "metadata": {
        "trusted": true
      },
      "cell_type": "code",
      "source": "import requests\nimport json \n\nsubscription_key = \"\" # PASTE BING CUSTOM SEARCH KEY HERE\n\n# From https://www.customsearch.ai/\ncustom_config_id = \"\" # PASTE Custom Config ID here\n\nsearch_url = \"https://api.cognitive.microsoft.com/bingcustomsearch/v7.0/search\"\n\nsearch_term = \"Kubernetes\"\n\nheaders = {\"Ocp-Apim-Subscription-Key\" : subscription_key}\nparams  = {\"q\": search_term, \"customconfig\": custom_config_id}\nresponse = requests.get(search_url, headers=headers, params=params)\nresponse.raise_for_status()\nsearch_results = response.json()\n\nprint(json.dumps(search_results, indent=2))",
      "execution_count": null,
      "outputs": []
    },
    {
      "metadata": {},
      "cell_type": "markdown",
      "source": "## Bing Entity Search\n\nThe Bing Entity Search API returns information about entities that Bing determines are relevant to a user's query."
    },
    {
      "metadata": {
        "trusted": true
      },
      "cell_type": "code",
      "source": "import requests\nimport json \n\nsubscription_key = \"\" # PASTE BING ENTITY SEARCH KEY HERE\nsearch_url = \"https://api.cognitive.microsoft.com/bing/v7.0/entities\"\n\nsearch_term = \"italian restaurants near me\"\n\nheaders = {\"Ocp-Apim-Subscription-Key\" : subscription_key}\nparams  = {\"q\": search_term, \"mkt\": \"en-US\"}\nresponse = requests.get(search_url, headers=headers, params=params)\nresponse.raise_for_status()\nsearch_results = response.json()\n\nprint(json.dumps(search_results, indent=2))",
      "execution_count": null,
      "outputs": []
    },
    {
      "metadata": {},
      "cell_type": "markdown",
      "source": "## Bing Image Search\n\nBing Image Search API provides an experience similar to Bing.com/images by returning images that Bing determines are relevant to a user's query."
    },
    {
      "metadata": {
        "trusted": true
      },
      "cell_type": "code",
      "source": "import requests\nimport json \n\nsubscription_key = \"\" # PASTE BING IMAGE SEARCH KEY HERE\nsearch_url = \"https://api.cognitive.microsoft.com/bing/v7.0/images/search\"\n\nsearch_term = \"puppies\"\n\nheaders = {\"Ocp-Apim-Subscription-Key\" : subscription_key}\nparams  = {\"q\": search_term, \"license\": \"public\", \"imageType\": \"photo\"}\nresponse = requests.get(search_url, headers=headers, params=params)\nresponse.raise_for_status()\nsearch_results = response.json()\n\nprint(json.dumps(search_results, indent=2))",
      "execution_count": null,
      "outputs": []
    },
    {
      "metadata": {
        "trusted": true
      },
      "cell_type": "code",
      "source": "",
      "execution_count": null,
      "outputs": []
    }
  ],
  "metadata": {
    "kernelspec": {
      "name": "python36",
      "display_name": "Python 3.6",
      "language": "python"
    },
    "language_info": {
      "mimetype": "text/x-python",
      "nbconvert_exporter": "python",
      "name": "python",
      "pygments_lexer": "ipython3",
      "version": "3.6.6",
      "file_extension": ".py",
      "codemirror_mode": {
        "version": 3,
        "name": "ipython"
      }
    }
  },
  "nbformat": 4,
  "nbformat_minor": 1
}