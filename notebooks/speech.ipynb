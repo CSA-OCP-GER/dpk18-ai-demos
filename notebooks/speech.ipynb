{
  "cells": [
    {
      "metadata": {},
      "cell_type": "markdown",
      "source": "# Cognitive Services Speech APIs"
    },
    {
      "metadata": {},
      "cell_type": "markdown",
      "source": "## Speech Service"
    },
    {
      "metadata": {},
      "cell_type": "markdown",
      "source": "### Speech to text (speech recognition)\n\nMicrosoft speech recognition API transcribes audio streams into text that your application can display to the user or act upon as command input. It provides two ways for developers to add Speech to their apps: REST APIs or Websocket-based client libraries.\n\n**For this code to run, you need create a valid subscription key.\nIf you want to create a test key for free, have a look [here](https://azure.microsoft.com/en-us/try/cognitive-services/my-apis/).**"
    },
    {
      "metadata": {
        "trusted": true
      },
      "cell_type": "code",
      "source": "import requests\nimport json\nimport IPython.display as ipd\n\napi_key = \"\" # PASTE SPEECH SERVICE API KEY HERE\n\nurl = \"https://northeurope.tts.speech.microsoft.com/cognitiveservices/v1\"\ntoken_url = \"https://northeurope.api.cognitive.microsoft.com/sts/v1.0/issueToken\"\n\nheaders = {'Ocp-Apim-Subscription-Key': api_key}\nresponse = requests.post(token_url, headers=headers)\ntoken = response.text\n\nprint(\"Token: \" + token)",
      "execution_count": null,
      "outputs": []
    },
    {
      "metadata": {
        "trusted": true
      },
      "cell_type": "code",
      "source": "headers = {'Authorization': token,\n           'Content-Type': 'application/ssml+xml',\n           'User-Agent': 'Test',\n           'X-Microsoft-OutputFormat': 'riff-16khz-16bit-mono-pcm'}\n\ndata = \"<speak version='1.0' xmlns='http://www.w3.org/2001/10/synthesis' xml:lang='de-DE'> \\\n<voice name='Microsoft Server Speech Text to Speech Voice (de-DE, HeddaRUS)'> \\\n    Hallo beisammen, das ist der neue Service fuer Sprachausgabe!  \\\n</voice></speak>\"\n\nresponse = requests.post(url, headers=headers, data=data)\naudio_data = response.content\n\nprint(response.headers)",
      "execution_count": null,
      "outputs": []
    },
    {
      "metadata": {
        "trusted": true
      },
      "cell_type": "code",
      "source": "with open(\"test.wav\", \"wb\") as f: \n    f.write(audio_data)\n    \nipd.Audio('test.wav')",
      "execution_count": null,
      "outputs": []
    },
    {
      "metadata": {},
      "cell_type": "markdown",
      "source": "### Text to speech (speech synthesis)\n\nText to Speech APIs use REST to convert structured text to an audio stream. The APIs provide fast text to speech conversion in various voices and languages. In addition users also have the ability to change audio characteristics like pronunciation, volume, pitch etc. using SSML tags."
    },
    {
      "metadata": {
        "trusted": true
      },
      "cell_type": "code",
      "source": "import requests\nimport json\n\napi_key = \"\" # PASTE SPEECH SERVICE API KEY HERE\n\ntoken_url = \"https://northeurope.api.cognitive.microsoft.com/sts/v1.0/issueToken\"\nheaders = {'Ocp-Apim-Subscription-Key': api_key}\nresponse = requests.post(token_url, headers=headers)\ntoken = response.text\n\nprint(\"Token: \" + token)\n\nurl = \"https://northeurope.stt.speech.microsoft.com/speech/recognition/conversation/cognitiveservices/v1\"\n\nheaders = {'Authorization': 'Bearer ' + token,\n           'Accept': 'application/json',\n           'Ocp-Apim-Subscription-Key': api_key,\n           'Content-Type': 'audio/wav; codec=audio/pcm; samplerate=16000'}\n\nparams = {'language': 'de-DE', 'format': 'detailed'}\n\n\ndata = ''\nwith open(\"test.wav\", 'rb') as f:\n    data = f.read();\n\nresponse = requests.post(url, headers=headers, params=params, data=data)\nprint(response)\nprint(json.dumps(response.json(), indent=2))",
      "execution_count": null,
      "outputs": []
    },
    {
      "metadata": {},
      "cell_type": "markdown",
      "source": "## Bing Speech API\n\nRather use new Speech Service APIs and SDKs. :)"
    }
  ],
  "metadata": {
    "kernelspec": {
      "name": "python36",
      "display_name": "Python 3.6",
      "language": "python"
    },
    "language_info": {
      "mimetype": "text/x-python",
      "nbconvert_exporter": "python",
      "name": "python",
      "pygments_lexer": "ipython3",
      "version": "3.6.6",
      "file_extension": ".py",
      "codemirror_mode": {
        "version": 3,
        "name": "ipython"
      }
    }
  },
  "nbformat": 4,
  "nbformat_minor": 1
}